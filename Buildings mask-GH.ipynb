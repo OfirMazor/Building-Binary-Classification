{
 "cells": [
  {
   "cell_type": "markdown",
   "id": "1abaeede-7401-475e-837b-d3f6852d1967",
   "metadata": {},
   "source": [
    "### 1. Libraries"
   ]
  },
  {
   "cell_type": "code",
   "execution_count": 1,
   "id": "9b986ded-7c68-4fe5-9f36-5ecef932a169",
   "metadata": {},
   "outputs": [],
   "source": [
    "import ee\n",
    "ee.Initialize()\n",
    "# https://developers.google.com/earth-engine/guides/python_install\n",
    "\n",
    "import geemap\n",
    "# https://geemap.org\n",
    "\n",
    "import pandas as pd\n",
    "# https://pandas.pydata.org\n",
    "\n",
    "import geopandas as gpd\n",
    "#https://geopandas.org"
   ]
  },
  {
   "cell_type": "markdown",
   "id": "02fb82c8-9dec-4a3f-a76a-72fb25aea85c",
   "metadata": {},
   "source": [
    "### 2. Data"
   ]
  },
  {
   "cell_type": "markdown",
   "id": "6a060a0a-8106-4d0f-abdf-8812c15db183",
   "metadata": {},
   "source": [
    "- Polygon for clipping:"
   ]
  },
  {
   "cell_type": "code",
   "execution_count": 2,
   "id": "0c768ed8-2156-47f6-b71f-db4f4902b5cc",
   "metadata": {},
   "outputs": [],
   "source": [
    "israel_ee = ee.FeatureCollection('USDOS/LSIB/2017').filterMetadata('COUNTRY_NA', 'equals', 'Israel')"
   ]
  },
  {
   "cell_type": "markdown",
   "id": "d2e052c0-890f-4d74-ad2e-77f336e8a87c",
   "metadata": {},
   "source": [
    "- Spectral Image Filtering"
   ]
  },
  {
   "cell_type": "code",
   "execution_count": 3,
   "id": "93fb8a1e-6817-46b3-be15-4d74ec07a390",
   "metadata": {},
   "outputs": [],
   "source": [
    "sentinel2_image = ee.ImageCollection('COPERNICUS/S2_SR') \\\n",
    "    .filterBounds(israel_ee) \\\n",
    "    .filterDate('2021-01-01', '2021-07-22') \\\n",
    "    .filterMetadata('CLOUDY_PIXEL_PERCENTAGE', 'less_than', 0.5) \\\n",
    "    .mean() \\\n",
    "    .clip(israel_ee)"
   ]
  },
  {
   "cell_type": "markdown",
   "id": "0aaa49c3-31c0-49fd-9bab-d40b7dddd952",
   "metadata": {},
   "source": [
    "- Sample Points for Classification\n",
    "  - My points already contain label column as ClassValue for buildings, where 1 = building signature\n",
    "  - Points data need to be reduced due to GEE computation time out error\n",
    "  - Convert points from GeoDataFrame to EE.FeatureCollection"
   ]
  },
  {
   "cell_type": "code",
   "execution_count": 4,
   "id": "e29b5e3a-29a5-4a43-a078-2a3fc89e4ac8",
   "metadata": {},
   "outputs": [],
   "source": [
    "sample_points = gpd.read_file(filename = '.../buildings.gpkg',\n",
    "                              layer = 'LayerName')"
   ]
  },
  {
   "cell_type": "code",
   "execution_count": 5,
   "id": "14b65b0a-a817-4cde-8fc2-225c970c6560",
   "metadata": {},
   "outputs": [
    {
     "data": {
      "text/plain": [
       "0    10000\n",
       "1    10000\n",
       "Name: ClassValue, dtype: int64"
      ]
     },
     "execution_count": 5,
     "metadata": {},
     "output_type": "execute_result"
    }
   ],
   "source": [
    "sample_points['ClassValue'].value_counts()"
   ]
  },
  {
   "cell_type": "code",
   "execution_count": 6,
   "id": "b479e9b9-e114-4803-932b-d92e59560dcc",
   "metadata": {},
   "outputs": [],
   "source": [
    "# smaller data set\n",
    "sample_points_1 = sample_points.loc[sample_points['ClassValue']==1].head(3500)\n",
    "sample_points_0 = sample_points.loc[sample_points['ClassValue']==0].head(3500)\n",
    "sample_points_reduced = sample_points_1.append(sample_points_0, ignore_index=True)"
   ]
  },
  {
   "cell_type": "code",
   "execution_count": 7,
   "id": "7ffe8e8e-82ae-4470-9e3c-9c15f5a5f0ba",
   "metadata": {},
   "outputs": [
    {
     "data": {
      "text/plain": [
       "0    3500\n",
       "1    3500\n",
       "Name: ClassValue, dtype: int64"
      ]
     },
     "execution_count": 7,
     "metadata": {},
     "output_type": "execute_result"
    }
   ],
   "source": [
    "sample_points_reduced['ClassValue'].value_counts()"
   ]
  },
  {
   "cell_type": "code",
   "execution_count": 8,
   "id": "34e2f773-18c6-483b-b8a9-7d12a6cdf787",
   "metadata": {},
   "outputs": [],
   "source": [
    "ee_sample_points = geemap.geopandas_to_ee(sample_points_reduced)"
   ]
  },
  {
   "cell_type": "markdown",
   "id": "a9807ae2-5ee6-472d-a822-315c3bb498a4",
   "metadata": {},
   "source": [
    "- Band Selection & Data Split"
   ]
  },
  {
   "cell_type": "code",
   "execution_count": 9,
   "id": "15da4195-8def-4503-86a2-e956cfc2884c",
   "metadata": {},
   "outputs": [],
   "source": [
    "# bands for prediction.\n",
    "bands = ['B12','B8','B6','B4','B3','B2']\n",
    "\n",
    "# property name of the table to store.\n",
    "y = 'ClassValue'\n",
    "\n",
    "# Overlay the points on the imagery to get training.\n",
    "X = sentinel2_image.select(bands).sampleRegions(**{\n",
    "    'collection': ee_sample_points,\n",
    "    'properties': [y],\n",
    "    'scale': 1}) \\\n",
    "    .randomColumn() #Adds a column of deterministic pseudorandom numbers to a collection.\n",
    "\n",
    "#Split by half the data to train and test sets\n",
    "split = 0.5\n",
    "\n",
    "\n",
    "X_train = X.filter(ee.Filter.lt('random', split)) #lt = less than\n",
    "X_test = X.filter(ee.Filter.gte('random', split)) #gte = greater than"
   ]
  },
  {
   "cell_type": "markdown",
   "id": "b2add0cc-e647-4141-b32f-d7e0f4422bd2",
   "metadata": {},
   "source": [
    "### 3. Classification Models"
   ]
  },
  {
   "cell_type": "code",
   "execution_count": 10,
   "id": "37a06b75-acc9-498e-a435-24c0ab25b7f7",
   "metadata": {},
   "outputs": [],
   "source": [
    "# Train  different classifiers:\n",
    "\n",
    "smileCart_train = ee.Classifier.smileCart().train(features = X_train, classProperty = y, inputProperties = bands)\n",
    "#https://developers.google.com/earth-engine/apidocs/ee-classifier-smilecart\n",
    "\n",
    "minimumDistance_train = ee.Classifier.minimumDistance(metric ='cosine').train(X_train, y, bands)\n",
    "#https://developers.google.com/earth-engine/apidocs/ee-classifier-minimumdistance\n",
    "\n",
    "smileRandomForest_train = ee.Classifier.smileRandomForest(numberOfTrees=100).train(X_train, y, bands)\n",
    "#https://developers.google.com/earth-engine/apidocs/ee-classifier-smilerandomforest\n",
    "\n",
    "\n",
    "# Classify the image with the same bands used for training.\n",
    "smileCart_train_image = sentinel2_image.select(bands).classify(classifier = smileCart_train)\n",
    "minimumDistance_train_image = sentinel2_image.select(bands).classify(classifier = minimumDistance_train)\n",
    "smileRandomForest_train_image = sentinel2_image.select(bands).classify(classifier = smileRandomForest_train)"
   ]
  },
  {
   "cell_type": "markdown",
   "id": "d7e19afd-78a8-476e-9e1a-ac86efa4e520",
   "metadata": {},
   "source": [
    "### 4. Explore Results"
   ]
  },
  {
   "cell_type": "code",
   "execution_count": 11,
   "id": "2b9ca7e6-b110-4f7f-84fa-3c3de36defe2",
   "metadata": {},
   "outputs": [],
   "source": [
    "results_dict = ee.Classifier.explain(classifier = smileRandomForest_train) #can be use for any models\n",
    "keys = results_dict.keys().getInfo()\n",
    "vals = results_dict.values().getInfo()"
   ]
  },
  {
   "cell_type": "code",
   "execution_count": 12,
   "id": "6740097e-ce0e-4b14-b186-56192c674f33",
   "metadata": {},
   "outputs": [
    {
     "name": "stdout",
     "output_type": "stream",
     "text": [
      "Model Error Estimate: 0.1070559610705596\n",
      "smileRandomForest Accuracy: 0.9952238805970149\n"
     ]
    }
   ],
   "source": [
    "print('Model Error Estimate:', vals[3])\n",
    "print('smileRandomForest Accuracy:', smileRandomForest_train.confusionMatrix().accuracy().getInfo())"
   ]
  },
  {
   "cell_type": "markdown",
   "id": "be3531dd-3fd1-4c4e-ba1c-c07ddcc18d4c",
   "metadata": {},
   "source": [
    "- Bands Importance"
   ]
  },
  {
   "cell_type": "code",
   "execution_count": 13,
   "id": "10087efe-ce17-4242-be4d-fc90567ff86e",
   "metadata": {},
   "outputs": [
    {
     "data": {
      "text/plain": [
       "<AxesSubplot:xlabel='band'>"
      ]
     },
     "execution_count": 13,
     "metadata": {},
     "output_type": "execute_result"
    },
    {
     "data": {
      "image/png": "[encoded data removed]",
      "text/plain": [
       "<Figure size 432x288 with 1 Axes>"
      ]
     },
     "metadata": {
      "needs_background": "light"
     },
     "output_type": "display_data"
    }
   ],
   "source": [
    "importance_df = pd.DataFrame(vals[1].items(), columns=['band', 'importance'])\n",
    "importance_df['band'] = importance_df['band'].str.replace('B', '').astype('int')\n",
    "importance_df.sort_values(by='band', inplace=True)\n",
    "importance_df.plot(x = 'band', y = 'importance')\n",
    "plt.show()"
   ]
  },
  {
   "cell_type": "markdown",
   "id": "f7260dc1-6bfd-462c-86a6-0e5f3538d84d",
   "metadata": {},
   "source": [
    "### 5. Map Visualizations"
   ]
  },
  {
   "cell_type": "markdown",
   "id": "2011d69b-ef3f-42aa-98b9-afa4d4dc5090",
   "metadata": {},
   "source": [
    " - Define Layers Visualization Parameters"
   ]
  },
  {
   "cell_type": "code",
   "execution_count": 14,
   "id": "2c03dd54-6647-463e-8ad9-1a5cb7c52b92",
   "metadata": {},
   "outputs": [],
   "source": [
    "classes_vis_params = {'min': 1,'max': 0}"
   ]
  },
  {
   "cell_type": "code",
   "execution_count": 15,
   "id": "8139d077-ef86-41c7-a4c6-1d1dcfe866f1",
   "metadata": {},
   "outputs": [],
   "source": [
    "sentinel2_vis_params = {\n",
    "    'min': 0.0,\n",
    "    'max': 10000.0,\n",
    "    'bands': ['B4','B3','B2']\n",
    "}"
   ]
  },
  {
   "cell_type": "markdown",
   "id": "ffacb311-03bf-4043-b3a5-32d73700e380",
   "metadata": {},
   "source": [
    "- Interactive Map"
   ]
  },
  {
   "cell_type": "code",
   "execution_count": null,
   "id": "4764e42f-7911-4816-8ed4-10ddaea00ec2",
   "metadata": {},
   "outputs": [],
   "source": [
    "ee_map = geemap.Map(center=(32.600,35.000),\n",
    "                    zoom = 7.5,\n",
    "                    add_google_map=False)\n",
    " \n",
    "ee_map.addLayer(israel_ee,{},'Israel')\n",
    "ee_map.addLayer(sentinel2_image,sentinel2_vis_params,'Sentinel 2')\n",
    "ee_map.addLayer(smileCart_train_image,classes_vis_params,'SmileCart')\n",
    "ee_map.addLayer(minimumDistance_train_image,classes_vis_params,'MinimumDistance')\n",
    "ee_map.addLayer(smileRandomForest_train_image,classes_vis_params,'SmileRandomForest')\n",
    "ee_map.addLayer(ee_sample_points,{'color':'FF0000'},'ee_training')\n",
    "\n",
    "ee_map"
   ]
  },
  {
   "cell_type": "markdown",
   "id": "887897aa-e2b4-40d5-9cb6-2858f3ba0216",
   "metadata": {},
   "source": [
    "- Splited Map"
   ]
  },
  {
   "cell_type": "code",
   "execution_count": null,
   "id": "32334cff-61ea-4f54-bc77-c4fa271bb56a",
   "metadata": {},
   "outputs": [],
   "source": [
    "leftLayer = geemap.ee_tile_layer(smileRandomForest_train_image,classes_vis_params,'SmileRandomForest')\n",
    "rightLayer = geemap.ee_tile_layer(sentinel2_image,sentinel2_vis_params,'Sentinel 2')\n",
    "\n",
    "split_map = ee_map.split_map(left_layer = leftLayer, right_layer=rightLayer)\n",
    "split_map"
   ]
  },
  {
   "cell_type": "markdown",
   "id": "06a04cf6-ef11-4690-999b-9eb6f60c9f39",
   "metadata": {},
   "source": [
    "- Linked Map"
   ]
  },
  {
   "cell_type": "code",
   "execution_count": 17,
   "id": "fdada8b4-0c06-4897-8b7b-8025451a51bf",
   "metadata": {},
   "outputs": [
    {
     "data": {
      "application/vnd.jupyter.widget-view+json": {
       "model_id": "b4f6d27652394263aa417025f27f0cc1",
       "version_major": 2,
       "version_minor": 0
      },
      "text/plain": [
       "GridspecLayout(children=(Output(layout=Layout(grid_area='widget001')), Output(layout=Layout(grid_area='widget0…"
      ]
     },
     "metadata": {},
     "output_type": "display_data"
    }
   ],
   "source": [
    "linked_objects = [sentinel2_image, smileCart_train_image, minimumDistance_train_image, smileRandomForest_train_image]\n",
    "linked_objects_vis_params = [sentinel2_vis_params,classes_vis_params,classes_vis_params, classes_vis_params]\n",
    "linked_labels = ['RGB', 'CART', 'Minimum Distance', 'Random Forest']\n",
    "\n",
    "link_map = geemap.linked_maps(rows=2, cols=2, height=\"300px\",center=[32.600,35.000], zoom=8, \n",
    "                              ee_objects=linked_objects,\n",
    "                              vis_params=linked_objects_vis_params,\n",
    "                              labels=linked_labels,\n",
    "                              label_position=\"topright\")\n",
    "link_map"
   ]
  },
  {
   "cell_type": "markdown",
   "id": "edd4a7f8-6842-489d-9db7-cd9e51e40477",
   "metadata": {},
   "source": [
    "- Export Interactive Map to HTML"
   ]
  },
  {
   "cell_type": "code",
   "execution_count": null,
   "id": "a935f300-adcb-4503-9bb7-e53141f534b7",
   "metadata": {},
   "outputs": [],
   "source": [
    "ee_map.to_html(outfile = r\"...\\ee_map.html\",\n",
    "    title='Buildings Mask Map',\n",
    "    width='100%',\n",
    "    height='880px',\n",
    "    add_layer_control=True)"
   ]
  }
 ],
 "metadata": {
  "kernelspec": {
   "display_name": "Python 3",
   "language": "python",
   "name": "python3"
  },
  "language_info": {
   "codemirror_mode": {
    "name": "ipython",
    "version": 3
   },
   "file_extension": ".py",
   "mimetype": "text/x-python",
   "name": "python",
   "nbconvert_exporter": "python",
   "pygments_lexer": "ipython3",
   "version": "3.7.9"
  }
 },
 "nbformat": 4,
 "nbformat_minor": 5
}
